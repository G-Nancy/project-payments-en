{
 "cells": [
  {
   "cell_type": "code",
   "execution_count": 1,
   "metadata": {},
   "outputs": [],
   "source": [
    "import pandas as pd\n",
    "import matplotlib as plt\n",
    "import seaborn as sns"
   ]
  },
  {
   "cell_type": "code",
   "execution_count": 8,
   "metadata": {},
   "outputs": [],
   "source": [
    "cash_req = pd.read_csv(\"project_dataset/extract - cash request - data analyst.csv\")\n",
    "fess = pd.read_csv(\"project_dataset/extract - fees - data analyst - .csv\")\n"
   ]
  },
  {
   "cell_type": "code",
   "execution_count": null,
   "metadata": {},
   "outputs": [],
   "source": [
    "# lexique = pd.ExcelFile(\"project_dataset/Lexique - Data Analyst.xlsx\")\n",
    "# lexique.parse() "
   ]
  },
  {
   "cell_type": "code",
   "execution_count": 25,
   "metadata": {},
   "outputs": [
    {
     "name": "stdout",
     "output_type": "stream",
     "text": [
      "['id', 'amount', 'status', 'created_at', 'updated_at', 'user_id', 'moderated_at', 'deleted_account_id', 'reimbursement_date', 'cash_request_received_date', 'money_back_date', 'transfer_type', 'send_at', 'recovery_status', 'reco_creation', 'reco_last_update']\n",
      "(23970, 16)\n",
      "\n",
      "\n",
      "                  id        amount        user_id  deleted_account_id\n",
      "count  23970.000000  23970.000000   21867.000000         2104.000000\n",
      "mean   13910.966124     82.720818   32581.250789         9658.755228\n",
      "std     7788.117214     26.528065   27618.565773         7972.743249\n",
      "min        3.000000      1.000000      34.000000           91.000000\n",
      "25%     7427.250000     50.000000   10804.000000         3767.000000\n",
      "50%    14270.500000    100.000000   23773.000000         6121.500000\n",
      "75%    20607.750000    100.000000   46965.000000        16345.000000\n",
      "max    27010.000000    200.000000  103719.000000        30445.000000 \n",
      "\n",
      "    id  amount    status                     created_at  \\\n",
      "0   5   100.0  rejected  2019-12-10 19:05:21.596873+00   \n",
      "1  70   100.0  rejected   2019-12-10 19:50:12.34778+00   \n",
      "2   7   100.0  rejected   2019-12-10 19:13:35.82546+00   \n",
      "\n",
      "                      updated_at  user_id                   moderated_at  \\\n",
      "0   2019-12-11 16:47:42.40783+00    804.0  2019-12-11 16:47:42.405646+00   \n",
      "1  2019-12-11 14:24:22.900054+00    231.0  2019-12-11 14:24:22.897988+00   \n",
      "2  2019-12-11 09:46:59.779773+00    191.0  2019-12-11 09:46:59.777728+00   \n",
      "\n",
      "   deleted_account_id             reimbursement_date  \\\n",
      "0                 NaN  2020-01-09 19:05:21.596363+00   \n",
      "1                 NaN   2020-01-09 19:50:12.34778+00   \n",
      "2                 NaN  2020-01-09 19:13:35.825041+00   \n",
      "\n",
      "  cash_request_received_date money_back_date transfer_type send_at  \\\n",
      "0                        NaN             NaN       regular     NaN   \n",
      "1                        NaN             NaN       regular     NaN   \n",
      "2                        NaN             NaN       regular     NaN   \n",
      "\n",
      "  recovery_status reco_creation reco_last_update  \n",
      "0             NaN           NaN              NaN  \n",
      "1             NaN           NaN              NaN  \n",
      "2             NaN           NaN              NaN  \n"
     ]
    }
   ],
   "source": [
    "print(list(cash_req.columns))\n",
    "print(cash_req.shape)\n",
    "print('\\n\\n',cash_req.describe(), '\\n\\n',cash_req.head(3))\n"
   ]
  }
 ],
 "metadata": {
  "kernelspec": {
   "display_name": "3.9.2",
   "language": "python",
   "name": "python3"
  },
  "language_info": {
   "codemirror_mode": {
    "name": "ipython",
    "version": 3
   },
   "file_extension": ".py",
   "mimetype": "text/x-python",
   "name": "python",
   "nbconvert_exporter": "python",
   "pygments_lexer": "ipython3",
   "version": "3.9.2"
  }
 },
 "nbformat": 4,
 "nbformat_minor": 2
}
